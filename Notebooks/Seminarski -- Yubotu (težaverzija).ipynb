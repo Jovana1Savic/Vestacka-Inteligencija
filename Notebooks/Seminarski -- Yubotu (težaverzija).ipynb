{
 "cells": [
  {
   "cell_type": "markdown",
   "id": "3f36057e",
   "metadata": {},
   "source": [
    "## Yubotu teža verzija\n",
    "\n",
    "![title](yubotu2.png)"
   ]
  },
  {
   "cell_type": "code",
   "execution_count": 1,
   "id": "5ec6d53f",
   "metadata": {},
   "outputs": [],
   "source": [
    "import z3\n",
    "from z3 import Implies, Not, And, Bool, PbEq, sat"
   ]
  },
  {
   "cell_type": "code",
   "execution_count": 2,
   "id": "a7d4ab27",
   "metadata": {},
   "outputs": [],
   "source": [
    "import matplotlib.pyplot as plt\n",
    "\n",
    "def plot_model(m):\n",
    "    mat = [[(i-j)%2 for i in range(10)] for j in range(10)]\n",
    "    for i in range(10):\n",
    "        for j in range(10):\n",
    "            if m.evaluate(p[i][j]):\n",
    "                mat[i][j] = 10 + (i-j) % 2\n",
    "    plt.matshow(mat)"
   ]
  },
  {
   "cell_type": "code",
   "execution_count": 3,
   "id": "794fa563",
   "metadata": {},
   "outputs": [],
   "source": [
    "s = z3.Solver()\n",
    "p = [[Bool(\"p{},{}\".format(i, j)) for j in range(10)] for i in range(10)]\n",
    "o = [[Bool(\"o{},{}\".format(i, j)) for j in range(10)] for i in range(10)]\n",
    "v = [[[Bool(\"v{},{},{}\".format(i, j, k)) for k in range(2, 5)] for j in range(10)] for i in range(10)]\n",
    "h = [[[Bool(\"h{},{},{}\".format(i, j, k)) for k in range(2, 5)] for j in range(10)] for i in range(10)]\n",
    "\n",
    "\n",
    "rows = [3, 1, 5, 1, 3, 1, 2, 3, 0, 1]\n",
    "col = [2, 1, 1, 5, 3, 3, 0, 0, 3, 2]"
   ]
  },
  {
   "cell_type": "code",
   "execution_count": 4,
   "id": "1e421434",
   "metadata": {},
   "outputs": [],
   "source": [
    "# Broj popunjenih polja u redovima.\n",
    "for (i, r) in enumerate(rows):\n",
    "    s.add(z3.PbEq([(p[i][j],1) for j in range(10)], r))   \n",
    "\n",
    "# Broj popunjenih polja u kolonama.\n",
    "for (j, c) in enumerate(col):\n",
    "    s.add(z3.PbEq([(p[i][j],1) for i in range(10)], c))"
   ]
  },
  {
   "cell_type": "code",
   "execution_count": 5,
   "id": "9a9b7128",
   "metadata": {},
   "outputs": [],
   "source": [
    "# Dijagonalni uslov. \n",
    "for i in range(10):\n",
    "    for j in range(10):\n",
    "        if (i < 9 and j < 9):\n",
    "            s.add(Implies(p[i][j], Not(p[i+1][j+1])))\n",
    "        if (i < 9 and j > 0):\n",
    "            s.add(Implies(p[i][j], Not(p[i+1][j-1])))        \n",
    "        if (i > 0 and j < 9):\n",
    "            s.add(Implies(p[i][j], Not(p[i-1][j+1])))\n",
    "        if (i > 0 and j > 0):\n",
    "            s.add(Implies(p[i][j], Not(p[i-1][j-1])))"
   ]
  },
  {
   "cell_type": "code",
   "execution_count": 6,
   "id": "c23e6deb",
   "metadata": {},
   "outputs": [],
   "source": [
    "# Definisanje najmanjih podmornica.\n",
    "for m in range(10):\n",
    "    for n in range(10):\n",
    "        vec = [p[m][n]]\n",
    "        for i in range(m-1, m+1+1):\n",
    "            for j in range(n-1, n+1+1):\n",
    "                if (0 <= i <= 9) and (0 <= j <= 9) and ((i, j) != (m, n)):\n",
    "                    vec += [Not(p[i][j])]\n",
    "                    \n",
    "        s.assert_and_track(Implies(o[m][n], And(vec)), str(o[m][n]) + \" -> \")\n",
    "        s.assert_and_track(Implies(And(vec), o[m][n]), \"-> \" + str(o[m][n]))"
   ]
  },
  {
   "cell_type": "code",
   "execution_count": 7,
   "id": "7abe6803",
   "metadata": {},
   "outputs": [],
   "source": [
    "# Definisanje horizontalnih podmornica.\n",
    "for m in range(10):\n",
    "    for n in range(10):\n",
    "        for k in range(2, 5):\n",
    "            \n",
    "            # Uslov da ne udaraju u zid.\n",
    "            if n + k > 10:\n",
    "                s.add(Not(h[m][n][k-2])) \n",
    "                continue\n",
    "                      \n",
    "            vec = []\n",
    "            \n",
    "            if 0 <= n-1 <= 9:\n",
    "                vec += [Not(p[m][n-1])]\n",
    "            if 0 <= n+k <= 9:\n",
    "                vec += [Not(p[m][n+k])]\n",
    "                \n",
    "            vec += [p[m][j] for j in range(n, n+k)]\n",
    "            \n",
    "            if 0 <= m-1 <= 9:\n",
    "                vec += [Not(p[m-1][j]) for j in range(n-1, n+k+1) if 0 <= j <= 9]\n",
    "            if 0 <= m+1 <= 9:\n",
    "                vec += [Not(p[m+1][j]) for j in range(n-1, n+k+1) if 0 <= j <= 9]\n",
    "                \n",
    "            s.assert_and_track(Implies(h[m][n][k-2], And(vec)), str(h[m][n][k-2]) + '->')\n",
    "            s.assert_and_track(Implies(And(vec), h[m][n][k-2]), '->' + str(h[m][n][k-2]))"
   ]
  },
  {
   "cell_type": "code",
   "execution_count": 8,
   "id": "20a9deb2",
   "metadata": {},
   "outputs": [],
   "source": [
    "# Definisanje vertikalnih podmornica.\n",
    "for m in range(10):\n",
    "    for n in range(10):\n",
    "        for k in range(2, 5):\n",
    "            \n",
    "            # Uslov da ne udaraju u zid.\n",
    "            if m + k > 10:\n",
    "                s.add(Not(v[m][n][k-2]))\n",
    "                continue\n",
    "            \n",
    "            vec = []\n",
    "            \n",
    "            if 0 <= m-1 <= 9:\n",
    "                vec += [Not(p[m-1][n])]\n",
    "            if 0 <= m+k <= 9:\n",
    "                vec += [Not(p[m+k][n])]\n",
    "            \n",
    "            vec += [p[i][n] for i in range(m, m+k)]\n",
    "            \n",
    "            if 0 <= n-1 <= 9:\n",
    "                vec += [Not(p[i][n-1]) for i in range(m-1, m+k+1) if 0 <= i <= 9]\n",
    "            if 0 <= n+1 <= 9:\n",
    "                vec += [Not(p[i][n+1]) for i in range(m-1, m+k+1) if 0 <= i <= 9]\n",
    "                \n",
    "            s.assert_and_track(Implies(v[m][n][k-2], And(vec)), str(v[m][n][k-2]) + '->')\n",
    "            s.assert_and_track(Implies(And(vec), v[m][n][k-2]), '->' + str(v[m][n][k-2]))"
   ]
  },
  {
   "cell_type": "code",
   "execution_count": 9,
   "id": "ec73beaf",
   "metadata": {},
   "outputs": [],
   "source": [
    "# Broj odgovarajucih podmornica.\n",
    "for k in range(2, 5):\n",
    "    vec = []\n",
    "    for i in range(10):\n",
    "        for j in range(10):\n",
    "            vec += [(h[i][j][k-2], 1)]\n",
    "            vec += [(v[i][j][k-2], 1)]\n",
    "    s.assert_and_track(PbEq(vec, 5-k), 'k='+str(k))\n",
    "    \n",
    "vec = []\n",
    "for i in range(10):\n",
    "    vec += [(o[i][j], 1) for j in range(10)]\n",
    "s.assert_and_track(PbEq(vec, 4), 'k=1')\n",
    "        "
   ]
  },
  {
   "cell_type": "code",
   "execution_count": 10,
   "id": "4c17dab9",
   "metadata": {},
   "outputs": [],
   "source": [
    "# Pocetni uslovi igre.\n",
    "s.add(h[6][0][2-2])\n",
    "s.add(h[0][8][2-2])\n",
    "s.add(Not(p[2][0]))\n",
    "s.add(Not(p[5][8]))"
   ]
  },
  {
   "cell_type": "code",
   "execution_count": 12,
   "id": "267a2c6e",
   "metadata": {},
   "outputs": [
    {
     "data": {
      "image/png": "[encoded data removed]",
      "text/plain": [
       "<Figure size 288x288 with 1 Axes>"
      ]
     },
     "metadata": {
      "needs_background": "light"
     },
     "output_type": "display_data"
    }
   ],
   "source": [
    "s.set(unsat_core=True)\n",
    "if s.check() == sat:\n",
    "    m = s.model()\n",
    "    plot_model(m)\n",
    "else:\n",
    "    print(s.unsat_core())"
   ]
  },
  {
   "cell_type": "code",
   "execution_count": null,
   "id": "ec582186",
   "metadata": {},
   "outputs": [],
   "source": []
  }
 ],
 "metadata": {
  "kernelspec": {
   "display_name": "Python 3",
   "language": "python",
   "name": "python3"
  },
  "language_info": {
   "codemirror_mode": {
    "name": "ipython",
    "version": 3
   },
   "file_extension": ".py",
   "mimetype": "text/x-python",
   "name": "python",
   "nbconvert_exporter": "python",
   "pygments_lexer": "ipython3",
   "version": "3.8.8"
  }
 },
 "nbformat": 4,
 "nbformat_minor": 5
}
