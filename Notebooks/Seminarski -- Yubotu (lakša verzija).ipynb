{
 "cells": [
  {
   "cell_type": "markdown",
   "id": "7b7e9855",
   "metadata": {},
   "source": [
    "## Yubotu lakša verzija\n",
    "\n",
    "![title](yubotu.png)"
   ]
  },
  {
   "cell_type": "code",
   "execution_count": 1,
   "id": "3010094c",
   "metadata": {},
   "outputs": [],
   "source": [
    "import z3\n",
    "from z3 import Implies, Not, And, Bool, PbEq, sat"
   ]
  },
  {
   "cell_type": "code",
   "execution_count": 2,
   "id": "42d20f5e",
   "metadata": {},
   "outputs": [],
   "source": [
    "import matplotlib.pyplot as plt\n",
    "\n",
    "def plot_model(m):\n",
    "    mat = [[(i-j)%2 for i in range(10)] for j in range(10)]\n",
    "    for i in range(10):\n",
    "        for j in range(10):\n",
    "            if m.evaluate(p[i][j]):\n",
    "                mat[i][j] = 10 + (i-j) % 2\n",
    "    plt.matshow(mat)"
   ]
  },
  {
   "cell_type": "code",
   "execution_count": 3,
   "id": "59edd1d5",
   "metadata": {},
   "outputs": [],
   "source": [
    "s = z3.Solver()\n",
    "p = [[z3.Bool(\"p{},{}\".format(j, i)) for i in range(10)] for j in range(10)]\n",
    "\n",
    "rows = [1, 1, 2, 6, 1, 0, 3, 2, 3, 1]\n",
    "col = [5, 0, 1, 0, 4, 1, 2, 1, 1, 5]"
   ]
  },
  {
   "cell_type": "code",
   "execution_count": 4,
   "id": "4352f4f7",
   "metadata": {},
   "outputs": [],
   "source": [
    "# Broj popunjenih polja u redovima.\n",
    "for (i, r) in enumerate(rows):\n",
    "    s.add(z3.PbEq([(p[i][j],1) for j in range(10)], r))   \n",
    "\n",
    "# Broj popunjenih polja u kolonama.\n",
    "for (j, c) in enumerate(col):\n",
    "    s.add(z3.PbEq([(p[i][j],1) for i in range(10)], c))"
   ]
  },
  {
   "cell_type": "code",
   "execution_count": 5,
   "id": "61d176a6",
   "metadata": {},
   "outputs": [],
   "source": [
    "# Dijagonalni uslov.\n",
    "for i in range(10):\n",
    "    for j in range(10):\n",
    "        if (i < 9 and j < 9):\n",
    "            s.add(Implies(p[i][j], Not(p[i+1][j+1])))\n",
    "        if (i < 9 and j > 0):\n",
    "            s.add(Implies(p[i][j], Not(p[i+1][j-1])))        \n",
    "        if (i > 0 and j < 9):\n",
    "            s.add(Implies(p[i][j], Not(p[i-1][j+1])))\n",
    "        if (i > 0 and j > 0):\n",
    "            s.add(Implies(p[i][j], Not(p[i-1][j-1])))"
   ]
  },
  {
   "cell_type": "code",
   "execution_count": 6,
   "id": "6a4fba50",
   "metadata": {},
   "outputs": [],
   "source": [
    "# Maksimalno 4 polja uslov - redovi.\n",
    "for i in range(6):\n",
    "    for j in range(10):\n",
    "        s.add(Implies(And(p[i][j], p[i+1][j], p[i+2][j], p[i+3][j]), Not(p[i+4][j])))\n",
    "        if i > 0:\n",
    "            s.add(Implies(And(p[i][j], p[i+1][j], p[i+2][j], p[i+3][j]), Not(p[i-1][j])))\n",
    "\n",
    "# Maksimalno 4 polja uslov - kolone.\n",
    "for i in range(10):\n",
    "    for j in range(6):\n",
    "        s.add(Implies(And(p[i][j], p[i][j+1], p[i][j+2], p[i][j+3]), Not(p[i][j+4])))\n",
    "        if j > 0:\n",
    "            s.add(Implies(And(p[i][j], p[i][j+1], p[i][j+2], p[i][j+3]), Not(p[i][j-1])))"
   ]
  },
  {
   "cell_type": "code",
   "execution_count": 7,
   "id": "efcac41f",
   "metadata": {},
   "outputs": [],
   "source": [
    "# Polja desno i levo prazna ako je polje ispred zauzeto - redovi.\n",
    "for i in range(9):\n",
    "    for j in range(10):\n",
    "        if j > 0:\n",
    "            s.add(Implies(And(p[i][j], p[i+1][j]), Not(p[i][j-1])))\n",
    "        if j < 9:\n",
    "            s.add(Implies(And(p[i][j], p[i+1][j]), Not(p[i][j+1])))\n",
    "\n",
    "# # Polja desno i levo prazna ako je polje ispred zauzeto - redovi.\n",
    "for i in range(10):\n",
    "    for j in range(9):\n",
    "        if i > 0:\n",
    "            s.add(Implies(And(p[i][j], p[i][j+1]), Not(p[i-1][j])))\n",
    "        if i < 9:\n",
    "            s.add(Implies(And(p[i][j], p[i][j+1]), Not(p[i+1][j])))"
   ]
  },
  {
   "cell_type": "code",
   "execution_count": 8,
   "id": "8b014340",
   "metadata": {},
   "outputs": [],
   "source": [
    "# Pocetno stanje igre.\n",
    "s.add(p[0][0])\n",
    "s.add(p[1][8])\n",
    "s.add(p[8][0])\n",
    "s.add(p[9][0])"
   ]
  },
  {
   "cell_type": "code",
   "execution_count": 9,
   "id": "d643d05d",
   "metadata": {},
   "outputs": [
    {
     "data": {
      "image/png": "[encoded data removed]",
      "text/plain": [
       "<Figure size 288x288 with 1 Axes>"
      ]
     },
     "metadata": {
      "needs_background": "light"
     },
     "output_type": "display_data"
    }
   ],
   "source": [
    "s.set(unsat_core=True)\n",
    "if s.check() == sat:\n",
    "    m = s.model()\n",
    "    plot_model(m)\n",
    "else:\n",
    "    print(s.unsat_core())"
   ]
  },
  {
   "cell_type": "code",
   "execution_count": null,
   "id": "9622b095",
   "metadata": {},
   "outputs": [],
   "source": []
  }
 ],
 "metadata": {
  "kernelspec": {
   "display_name": "Python 3",
   "language": "python",
   "name": "python3"
  },
  "language_info": {
   "codemirror_mode": {
    "name": "ipython",
    "version": 3
   },
   "file_extension": ".py",
   "mimetype": "text/x-python",
   "name": "python",
   "nbconvert_exporter": "python",
   "pygments_lexer": "ipython3",
   "version": "3.8.8"
  }
 },
 "nbformat": 4,
 "nbformat_minor": 5
}
